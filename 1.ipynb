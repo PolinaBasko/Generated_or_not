{
  "metadata": {
    "kernelspec": {
      "language": "python",
      "display_name": "Python 3",
      "name": "python3"
    },
    "language_info": {
      "name": "python",
      "version": "3.10.13",
      "mimetype": "text/x-python",
      "codemirror_mode": {
        "name": "ipython",
        "version": 3
      },
      "pygments_lexer": "ipython3",
      "nbconvert_exporter": "python",
      "file_extension": ".py"
    },
    "kaggle": {
      "accelerator": "none",
      "dataSources": [
        {
          "sourceId": 8062574,
          "sourceType": "datasetVersion",
          "datasetId": 4691694
        }
      ],
      "dockerImageVersionId": 30673,
      "isInternetEnabled": false,
      "language": "python",
      "sourceType": "notebook",
      "isGpuEnabled": false
    },
    "colab": {
      "name": "Generated or not",
      "provenance": []
    }
  },
  "nbformat_minor": 0,
  "nbformat": 4,
  "cells": [
    {
      "cell_type": "code",
      "source": [
        "import numpy as np\n",
        "import pandas as pd\n",
        "import os"
      ],
      "metadata": {
        "_uuid": "8f2839f25d086af736a60e9eeb907d3b93b6e0e5",
        "_cell_guid": "b1076dfc-b9ad-4769-8c92-a6c4dae69d19",
        "execution": {
          "iopub.status.busy": "2024-05-20T08:52:20.574627Z",
          "iopub.execute_input": "2024-05-20T08:52:20.575033Z",
          "iopub.status.idle": "2024-05-20T08:52:21.945972Z",
          "shell.execute_reply.started": "2024-05-20T08:52:20.574998Z",
          "shell.execute_reply": "2024-05-20T08:52:21.944586Z"
        },
        "trusted": true,
        "id": "jEUHtTQPCQMi"
      },
      "execution_count": null,
      "outputs": []
    },
    {
      "cell_type": "markdown",
      "source": [
        "В этом задании необходимо попытаться предсказать, сгенерировано ли изображение при помощи ИИ или создано человеком."
      ],
      "metadata": {
        "id": "_v2n37QsCQMj"
      }
    },
    {
      "cell_type": "code",
      "source": [
        "# загружаем нужные библиотеки\n",
        "import keras\n",
        "from keras.preprocessing import image\n",
        "import sklearn\n",
        "import matplotlib\n",
        "import matplotlib.pyplot as plt\n",
        "import cv2\n",
        "from skimage import io\n",
        "import imageio"
      ],
      "metadata": {
        "execution": {
          "iopub.status.busy": "2024-05-20T08:54:21.561462Z",
          "iopub.execute_input": "2024-05-20T08:54:21.56198Z",
          "iopub.status.idle": "2024-05-20T08:54:38.536737Z",
          "shell.execute_reply.started": "2024-05-20T08:54:21.561949Z",
          "shell.execute_reply": "2024-05-20T08:54:38.535396Z"
        },
        "trusted": true,
        "id": "fv1P7GpPCQMk"
      },
      "execution_count": null,
      "outputs": []
    },
    {
      "cell_type": "markdown",
      "source": [
        "# Предобработка изображений"
      ],
      "metadata": {
        "id": "dndL_-0wCQMl"
      }
    },
    {
      "cell_type": "code",
      "source": [
        "# функция, поочередно открывающая картинки из папки, преобразующая их в вектора и складывающая в массив\n",
        "# функция открывает картинку не в RGB, а в сером цвете (IMREAD_GRAYSCALE)\n",
        "def image2array(filelist):\n",
        "    image_array = []\n",
        "    d = 'path'\n",
        "    for image in os.listdir(filelist):\n",
        "        img = cv2.imread(os.path.join(d,image), cv2.IMREAD_GRAYSCALE)\n",
        "        img = cv2.resize(img, (600,600)).flatten()\n",
        "        img = np.asarray(img)\n",
        "        image_array.append(img)\n",
        "    return np.array(image_array)"
      ],
      "metadata": {
        "execution": {
          "iopub.status.busy": "2024-05-20T08:57:09.44836Z",
          "iopub.execute_input": "2024-05-20T08:57:09.449274Z",
          "iopub.status.idle": "2024-05-20T08:57:09.459901Z",
          "shell.execute_reply.started": "2024-05-20T08:57:09.449208Z",
          "shell.execute_reply": "2024-05-20T08:57:09.45852Z"
        },
        "trusted": true,
        "id": "YVqIFx8FCQMl"
      },
      "execution_count": null,
      "outputs": []
    },
    {
      "cell_type": "code",
      "source": [
        "filelist = 'path'\n",
        "\n",
        "train_data = image2array(filelist)"
      ],
      "metadata": {
        "execution": {
          "iopub.status.busy": "2024-05-20T08:57:14.517366Z",
          "iopub.execute_input": "2024-05-20T08:57:14.517778Z",
          "iopub.status.idle": "2024-05-20T08:57:42.364176Z",
          "shell.execute_reply.started": "2024-05-20T08:57:14.517749Z",
          "shell.execute_reply": "2024-05-20T08:57:42.362735Z"
        },
        "trusted": true,
        "id": "-l3XDN8QCQMl"
      },
      "execution_count": null,
      "outputs": []
    },
    {
      "cell_type": "code",
      "source": [
        "# проверяем размер, убеждаемся, что в папке у нас 1518 картинок, каждая из которых выражена вектором длины 360000\n",
        "print(train_data.shape)"
      ],
      "metadata": {
        "execution": {
          "iopub.status.busy": "2024-05-20T08:58:05.409154Z",
          "iopub.execute_input": "2024-05-20T08:58:05.409609Z",
          "iopub.status.idle": "2024-05-20T08:58:05.416571Z",
          "shell.execute_reply.started": "2024-05-20T08:58:05.409567Z",
          "shell.execute_reply": "2024-05-20T08:58:05.415174Z"
        },
        "trusted": true,
        "id": "Jg_r63szCQMm"
      },
      "execution_count": null,
      "outputs": []
    },
    {
      "cell_type": "code",
      "source": [
        "# проверяю первый элемент\n",
        "print(train_data[0])"
      ],
      "metadata": {
        "execution": {
          "iopub.status.busy": "2024-05-20T08:58:08.186544Z",
          "iopub.execute_input": "2024-05-20T08:58:08.186943Z",
          "iopub.status.idle": "2024-05-20T08:58:08.193607Z",
          "shell.execute_reply.started": "2024-05-20T08:58:08.186913Z",
          "shell.execute_reply": "2024-05-20T08:58:08.192331Z"
        },
        "trusted": true,
        "id": "5TRxJoIiCQMm"
      },
      "execution_count": null,
      "outputs": []
    },
    {
      "cell_type": "code",
      "source": [
        "# тип элемента\n",
        "type(train_data[0])"
      ],
      "metadata": {
        "execution": {
          "iopub.status.busy": "2024-05-20T08:58:12.012775Z",
          "iopub.execute_input": "2024-05-20T08:58:12.013178Z",
          "iopub.status.idle": "2024-05-20T08:58:12.023587Z",
          "shell.execute_reply.started": "2024-05-20T08:58:12.013148Z",
          "shell.execute_reply": "2024-05-20T08:58:12.021673Z"
        },
        "trusted": true,
        "id": "aI8VZts9CQMn"
      },
      "execution_count": null,
      "outputs": []
    },
    {
      "cell_type": "markdown",
      "source": [
        "Ниже экспериментальный блок, для проверки что происходит с одной картинкой при вышеуказанном преобразовании."
      ],
      "metadata": {
        "id": "iv9p2rp4CQMo"
      }
    },
    {
      "cell_type": "code",
      "source": [
        "img = cv2.imread('path', cv2.IMREAD_GRAYSCALE)\n",
        "print(img.size, img.shape)\n",
        "plt.imshow(img)"
      ],
      "metadata": {
        "execution": {
          "iopub.status.busy": "2024-05-20T08:58:23.509102Z",
          "iopub.execute_input": "2024-05-20T08:58:23.509514Z",
          "iopub.status.idle": "2024-05-20T08:58:24.33857Z",
          "shell.execute_reply.started": "2024-05-20T08:58:23.509483Z",
          "shell.execute_reply": "2024-05-20T08:58:24.337124Z"
        },
        "collapsed": true,
        "jupyter": {
          "outputs_hidden": true,
          "source_hidden": true
        },
        "trusted": true,
        "id": "adwp4__sCQMo"
      },
      "execution_count": null,
      "outputs": []
    },
    {
      "cell_type": "code",
      "source": [
        "img = cv2.resize(img, (1024,1024))\n",
        "print(img.size,img.shape)\n",
        "print(img)"
      ],
      "metadata": {
        "execution": {
          "iopub.status.busy": "2024-04-04T08:51:00.047009Z",
          "iopub.execute_input": "2024-04-04T08:51:00.047506Z",
          "iopub.status.idle": "2024-04-04T08:51:00.056518Z",
          "shell.execute_reply.started": "2024-04-04T08:51:00.047465Z",
          "shell.execute_reply": "2024-04-04T08:51:00.055032Z"
        },
        "collapsed": true,
        "jupyter": {
          "outputs_hidden": true,
          "source_hidden": true
        },
        "trusted": true,
        "id": "5cuxLEXnCQMo"
      },
      "execution_count": null,
      "outputs": []
    },
    {
      "cell_type": "code",
      "source": [
        "plt.imshow(img)"
      ],
      "metadata": {
        "execution": {
          "iopub.status.busy": "2024-04-04T08:51:15.803753Z",
          "iopub.execute_input": "2024-04-04T08:51:15.80425Z",
          "iopub.status.idle": "2024-04-04T08:51:16.209243Z",
          "shell.execute_reply.started": "2024-04-04T08:51:15.804213Z",
          "shell.execute_reply": "2024-04-04T08:51:16.208152Z"
        },
        "collapsed": true,
        "jupyter": {
          "outputs_hidden": true,
          "source_hidden": true
        },
        "trusted": true,
        "id": "X_u2130dCQMo"
      },
      "execution_count": null,
      "outputs": []
    },
    {
      "cell_type": "markdown",
      "source": [
        "Продолжаем предобработку изображений"
      ],
      "metadata": {
        "id": "t4HWn1OCCQMp"
      }
    },
    {
      "cell_type": "code",
      "source": [
        "# создаем функцию для списка имен изображений из папки\n",
        "def create_namelist(filelist):\n",
        "    names_array = []\n",
        "    d = 'path'\n",
        "    for image in os.listdir(filelist):\n",
        "        names_array.append(image)\n",
        "    return names_array"
      ],
      "metadata": {
        "execution": {
          "iopub.status.busy": "2024-05-20T08:58:59.220407Z",
          "iopub.execute_input": "2024-05-20T08:58:59.221528Z",
          "iopub.status.idle": "2024-05-20T08:58:59.227377Z",
          "shell.execute_reply.started": "2024-05-20T08:58:59.221489Z",
          "shell.execute_reply": "2024-05-20T08:58:59.226183Z"
        },
        "trusted": true,
        "id": "CCfIsaMZCQMp"
      },
      "execution_count": null,
      "outputs": []
    },
    {
      "cell_type": "code",
      "source": [
        "a = create_namelist('path')\n",
        "a = np.array(a)\n",
        "print(a)\n",
        "print(a.size)"
      ],
      "metadata": {
        "execution": {
          "iopub.status.busy": "2024-05-20T08:59:03.167084Z",
          "iopub.execute_input": "2024-05-20T08:59:03.167549Z",
          "iopub.status.idle": "2024-05-20T08:59:03.177691Z",
          "shell.execute_reply.started": "2024-05-20T08:59:03.167514Z",
          "shell.execute_reply": "2024-05-20T08:59:03.176548Z"
        },
        "trusted": true,
        "id": "oBFcwAfMCQMp"
      },
      "execution_count": null,
      "outputs": []
    },
    {
      "cell_type": "code",
      "source": [
        "# размер тот же - 1518, преобразуем в DataFrame для дальнейшей работы\n",
        "a = pd.DataFrame(data = a)"
      ],
      "metadata": {
        "execution": {
          "iopub.status.busy": "2024-05-20T08:59:09.983764Z",
          "iopub.execute_input": "2024-05-20T08:59:09.984165Z",
          "iopub.status.idle": "2024-05-20T08:59:09.990951Z",
          "shell.execute_reply.started": "2024-05-20T08:59:09.984134Z",
          "shell.execute_reply": "2024-05-20T08:59:09.989463Z"
        },
        "trusted": true,
        "id": "2z0KSf4YCQMp"
      },
      "execution_count": null,
      "outputs": []
    },
    {
      "cell_type": "code",
      "source": [
        "# называем колонку с именем 'id'\n",
        "a.columns=['id']"
      ],
      "metadata": {
        "execution": {
          "iopub.status.busy": "2024-05-20T08:59:13.996723Z",
          "iopub.execute_input": "2024-05-20T08:59:13.997121Z",
          "iopub.status.idle": "2024-05-20T08:59:14.005605Z",
          "shell.execute_reply.started": "2024-05-20T08:59:13.99709Z",
          "shell.execute_reply": "2024-05-20T08:59:14.004438Z"
        },
        "trusted": true,
        "id": "i3aV-KRvCQMp"
      },
      "execution_count": null,
      "outputs": []
    },
    {
      "cell_type": "code",
      "source": [
        "# так как в scv файле с таргетом не у всех изображений указано расширение, пишем функцию,\n",
        "# которая добавит нам колонку без расширения\n",
        "def png_name(column):\n",
        "    t = column[0]\n",
        "    result = t.split(\".\")[0]\n",
        "    return result"
      ],
      "metadata": {
        "execution": {
          "iopub.status.busy": "2024-05-20T08:59:23.541861Z",
          "iopub.execute_input": "2024-05-20T08:59:23.542308Z",
          "iopub.status.idle": "2024-05-20T08:59:23.548565Z",
          "shell.execute_reply.started": "2024-05-20T08:59:23.542258Z",
          "shell.execute_reply": "2024-05-20T08:59:23.547173Z"
        },
        "trusted": true,
        "id": "jgEsuRnFCQMp"
      },
      "execution_count": null,
      "outputs": []
    },
    {
      "cell_type": "code",
      "source": [
        "a['id_corr'] = a[['id']].apply(png_name, axis = 1)"
      ],
      "metadata": {
        "execution": {
          "iopub.status.busy": "2024-05-20T08:59:27.299498Z",
          "iopub.execute_input": "2024-05-20T08:59:27.299894Z",
          "iopub.status.idle": "2024-05-20T08:59:27.366145Z",
          "shell.execute_reply.started": "2024-05-20T08:59:27.299864Z",
          "shell.execute_reply": "2024-05-20T08:59:27.364889Z"
        },
        "collapsed": true,
        "jupyter": {
          "outputs_hidden": true
        },
        "trusted": true,
        "id": "LZT1IyiaCQMp"
      },
      "execution_count": null,
      "outputs": []
    },
    {
      "cell_type": "code",
      "source": [
        "a.head(10)"
      ],
      "metadata": {
        "execution": {
          "iopub.status.busy": "2024-05-20T08:59:31.79496Z",
          "iopub.execute_input": "2024-05-20T08:59:31.795381Z",
          "iopub.status.idle": "2024-05-20T08:59:31.81224Z",
          "shell.execute_reply.started": "2024-05-20T08:59:31.795344Z",
          "shell.execute_reply": "2024-05-20T08:59:31.810826Z"
        },
        "trusted": true,
        "id": "fcm_i6J8CQMp"
      },
      "execution_count": null,
      "outputs": []
    },
    {
      "cell_type": "code",
      "source": [
        "# загружаем таргет\n",
        "train_target = pd.read_csv('path')\n",
        "train_target = pd.DataFrame(train_target)\n",
        "train_target.head(10)"
      ],
      "metadata": {
        "execution": {
          "iopub.status.busy": "2024-05-20T08:59:49.62936Z",
          "iopub.execute_input": "2024-05-20T08:59:49.629741Z",
          "iopub.status.idle": "2024-05-20T08:59:49.650986Z",
          "shell.execute_reply.started": "2024-05-20T08:59:49.629704Z",
          "shell.execute_reply": "2024-05-20T08:59:49.649508Z"
        },
        "collapsed": true,
        "jupyter": {
          "outputs_hidden": true
        },
        "trusted": true,
        "id": "JxscGoofCQMp"
      },
      "execution_count": null,
      "outputs": []
    },
    {
      "cell_type": "code",
      "source": [
        "# аналогчно избавляемся от расширений\n",
        "train_target['id_corr'] = train_target[['id']].apply(png_name, axis = 1)"
      ],
      "metadata": {
        "execution": {
          "iopub.status.busy": "2024-05-20T08:59:57.199738Z",
          "iopub.execute_input": "2024-05-20T08:59:57.200831Z",
          "iopub.status.idle": "2024-05-20T08:59:57.239864Z",
          "shell.execute_reply.started": "2024-05-20T08:59:57.200789Z",
          "shell.execute_reply": "2024-05-20T08:59:57.238434Z"
        },
        "collapsed": true,
        "jupyter": {
          "outputs_hidden": true
        },
        "trusted": true,
        "id": "S-5RlOmgCQMq"
      },
      "execution_count": null,
      "outputs": []
    },
    {
      "cell_type": "code",
      "source": [
        "train_target.head(5)"
      ],
      "metadata": {
        "execution": {
          "iopub.status.busy": "2024-05-20T09:00:02.315661Z",
          "iopub.execute_input": "2024-05-20T09:00:02.316071Z",
          "iopub.status.idle": "2024-05-20T09:00:02.327601Z",
          "shell.execute_reply.started": "2024-05-20T09:00:02.316039Z",
          "shell.execute_reply": "2024-05-20T09:00:02.326407Z"
        },
        "trusted": true,
        "id": "NnAp8YuaCQMq"
      },
      "execution_count": null,
      "outputs": []
    },
    {
      "cell_type": "code",
      "source": [
        "# соединяем списки по id_corr\n",
        "new_merged = pd.merge(a, train_target, on = 'id_corr', how = 'left')\n",
        "new_merged.head(10)\n",
        "# там, где нет таргета - это тестовая выборк, где целевой класс проставлен - тренировочная(разделим её позже на train, test, validation)"
      ],
      "metadata": {
        "execution": {
          "iopub.status.busy": "2024-05-20T09:00:59.498927Z",
          "iopub.execute_input": "2024-05-20T09:00:59.499341Z",
          "iopub.status.idle": "2024-05-20T09:00:59.53737Z",
          "shell.execute_reply.started": "2024-05-20T09:00:59.499309Z",
          "shell.execute_reply": "2024-05-20T09:00:59.536012Z"
        },
        "trusted": true,
        "id": "b-oHnsJ4CQMq"
      },
      "execution_count": null,
      "outputs": []
    },
    {
      "cell_type": "code",
      "source": [
        "# это действие добавляет дополнительной колонкой вектор, соответствующий картинке в наш DataFrame с таргетами и айди\n",
        "new_merged['matrix'] = train_data.tolist()"
      ],
      "metadata": {
        "execution": {
          "iopub.status.busy": "2024-05-20T09:01:18.443773Z",
          "iopub.execute_input": "2024-05-20T09:01:18.444543Z",
          "iopub.status.idle": "2024-05-20T09:01:36.201186Z",
          "shell.execute_reply.started": "2024-05-20T09:01:18.444499Z",
          "shell.execute_reply": "2024-05-20T09:01:36.20012Z"
        },
        "trusted": true,
        "id": "ZSInntBzCQMq"
      },
      "execution_count": null,
      "outputs": []
    },
    {
      "cell_type": "code",
      "source": [
        "new_merged.head(5)"
      ],
      "metadata": {
        "execution": {
          "iopub.status.busy": "2024-05-20T09:03:37.121505Z",
          "iopub.execute_input": "2024-05-20T09:03:37.121902Z",
          "iopub.status.idle": "2024-05-20T09:03:37.145534Z",
          "shell.execute_reply.started": "2024-05-20T09:03:37.121871Z",
          "shell.execute_reply": "2024-05-20T09:03:37.144385Z"
        },
        "trusted": true,
        "id": "MLK5AusOCQMq"
      },
      "execution_count": null,
      "outputs": []
    },
    {
      "cell_type": "code",
      "source": [
        "# из всего числа изображений должно быть 506 без таргета, так как для этого набора будет необходимо предсказать\n",
        "# вероятность попадания в целевой класс (сгенерировано ИИ)\n",
        "count_nan = new_merged['target'].isnull().sum()\n",
        "count_nan"
      ],
      "metadata": {
        "execution": {
          "iopub.status.busy": "2024-05-20T09:07:03.961511Z",
          "iopub.execute_input": "2024-05-20T09:07:03.962302Z",
          "iopub.status.idle": "2024-05-20T09:07:03.969547Z",
          "shell.execute_reply.started": "2024-05-20T09:07:03.962246Z",
          "shell.execute_reply": "2024-05-20T09:07:03.968701Z"
        },
        "trusted": true,
        "id": "pr_VFDS4CQMq"
      },
      "execution_count": null,
      "outputs": []
    },
    {
      "cell_type": "code",
      "source": [
        "# выделяем тренировочный датафрейм с указанными таргетами\n",
        "train_set = new_merged.loc[((new_merged['target'] == 1)) | ((new_merged['target'] == 0))]\n",
        "train_set.head(5)"
      ],
      "metadata": {
        "execution": {
          "iopub.status.busy": "2024-05-20T09:07:08.567739Z",
          "iopub.execute_input": "2024-05-20T09:07:08.568528Z",
          "iopub.status.idle": "2024-05-20T09:07:08.593886Z",
          "shell.execute_reply.started": "2024-05-20T09:07:08.568485Z",
          "shell.execute_reply": "2024-05-20T09:07:08.592612Z"
        },
        "trusted": true,
        "id": "x5meE1Z6CQMq"
      },
      "execution_count": null,
      "outputs": []
    },
    {
      "cell_type": "code",
      "source": [
        "# формируем тестовый датафрейм\n",
        "test_set = new_merged.loc[((new_merged['target'].isnull()))]\n",
        "test_set.head(5)"
      ],
      "metadata": {
        "execution": {
          "iopub.status.busy": "2024-05-20T09:07:19.120371Z",
          "iopub.execute_input": "2024-05-20T09:07:19.121415Z",
          "iopub.status.idle": "2024-05-20T09:07:19.143547Z",
          "shell.execute_reply.started": "2024-05-20T09:07:19.12137Z",
          "shell.execute_reply": "2024-05-20T09:07:19.142379Z"
        },
        "trusted": true,
        "id": "KqnPZ0ZqCQMq"
      },
      "execution_count": null,
      "outputs": []
    },
    {
      "cell_type": "code",
      "source": [
        "# следующим шагом формируем матрицу X для тренировочной выборки\n",
        "def mtx(df):\n",
        "    array=[]\n",
        "    for i in df:\n",
        "        i = np.asarray(i)\n",
        "        array.append(i)\n",
        "    return array\n",
        ""
      ],
      "metadata": {
        "execution": {
          "iopub.status.busy": "2024-05-20T09:11:07.076475Z",
          "iopub.execute_input": "2024-05-20T09:11:07.07687Z",
          "iopub.status.idle": "2024-05-20T09:11:07.08313Z",
          "shell.execute_reply.started": "2024-05-20T09:11:07.076839Z",
          "shell.execute_reply": "2024-05-20T09:11:07.081797Z"
        },
        "trusted": true,
        "id": "E80mBZYpCQMr"
      },
      "execution_count": null,
      "outputs": []
    },
    {
      "cell_type": "code",
      "source": [
        "X_train = mtx(train_set['matrix'])"
      ],
      "metadata": {
        "execution": {
          "iopub.status.busy": "2024-05-20T09:11:23.44017Z",
          "iopub.execute_input": "2024-05-20T09:11:23.440627Z",
          "iopub.status.idle": "2024-05-20T09:12:00.491395Z",
          "shell.execute_reply.started": "2024-05-20T09:11:23.440592Z",
          "shell.execute_reply": "2024-05-20T09:12:00.489872Z"
        },
        "trusted": true,
        "id": "9KbR3VuNCQMr"
      },
      "execution_count": null,
      "outputs": []
    },
    {
      "cell_type": "code",
      "source": [
        "X_train = np.asarray(X_train)\n",
        "X_train"
      ],
      "metadata": {
        "execution": {
          "iopub.status.busy": "2024-05-20T09:12:24.447989Z",
          "iopub.execute_input": "2024-05-20T09:12:24.448697Z",
          "iopub.status.idle": "2024-05-20T09:12:25.97525Z",
          "shell.execute_reply.started": "2024-05-20T09:12:24.448646Z",
          "shell.execute_reply": "2024-05-20T09:12:25.973732Z"
        },
        "trusted": true,
        "id": "I71eAYylCQMr"
      },
      "execution_count": null,
      "outputs": []
    },
    {
      "cell_type": "code",
      "source": [
        "# получили матрицу, где строки - картинки, столбцы - вектора, их описывающие. всего в тренировочной выборке\n",
        "# 1012 картинок, каждая это вектор размера 360000\n",
        "X_train.shape"
      ],
      "metadata": {
        "execution": {
          "iopub.status.busy": "2024-05-20T09:12:33.468578Z",
          "iopub.execute_input": "2024-05-20T09:12:33.469685Z",
          "iopub.status.idle": "2024-05-20T09:12:33.480975Z",
          "shell.execute_reply.started": "2024-05-20T09:12:33.469608Z",
          "shell.execute_reply": "2024-05-20T09:12:33.479825Z"
        },
        "trusted": true,
        "id": "OqHBMpFhCQMr"
      },
      "execution_count": null,
      "outputs": []
    },
    {
      "cell_type": "code",
      "source": [
        "#аналогичным образом достаем таргет для тренировочной выборки\n",
        "Y_train = mtx(train_set['target'])"
      ],
      "metadata": {
        "execution": {
          "iopub.status.busy": "2024-05-20T09:12:45.34202Z",
          "iopub.execute_input": "2024-05-20T09:12:45.343347Z",
          "iopub.status.idle": "2024-05-20T09:12:45.351777Z",
          "shell.execute_reply.started": "2024-05-20T09:12:45.343275Z",
          "shell.execute_reply": "2024-05-20T09:12:45.350788Z"
        },
        "trusted": true,
        "id": "w6SjiHMjCQMr"
      },
      "execution_count": null,
      "outputs": []
    },
    {
      "cell_type": "code",
      "source": [
        "Y_train = np.asarray(Y_train)\n",
        "Y_train"
      ],
      "metadata": {
        "execution": {
          "iopub.status.busy": "2024-05-20T09:12:51.87532Z",
          "iopub.execute_input": "2024-05-20T09:12:51.875823Z",
          "iopub.status.idle": "2024-05-20T09:12:51.884928Z",
          "shell.execute_reply.started": "2024-05-20T09:12:51.875789Z",
          "shell.execute_reply": "2024-05-20T09:12:51.883558Z"
        },
        "trusted": true,
        "id": "hrlSVeHQCQMr"
      },
      "execution_count": null,
      "outputs": []
    },
    {
      "cell_type": "code",
      "source": [
        "# таргет - это вектор из 0 и 1(обозначающих классы), где класс определен для 1012 изображений\n",
        "Y_train.shape"
      ],
      "metadata": {
        "execution": {
          "iopub.status.busy": "2024-05-20T09:12:54.546693Z",
          "iopub.execute_input": "2024-05-20T09:12:54.547142Z",
          "iopub.status.idle": "2024-05-20T09:12:54.554589Z",
          "shell.execute_reply.started": "2024-05-20T09:12:54.547107Z",
          "shell.execute_reply": "2024-05-20T09:12:54.553358Z"
        },
        "trusted": true,
        "id": "OSFwGVsPCQMr"
      },
      "execution_count": null,
      "outputs": []
    },
    {
      "cell_type": "code",
      "source": [
        "# делаем тоже самое для тестовой выборки\n",
        "X_test = mtx(test_set['matrix'])"
      ],
      "metadata": {
        "execution": {
          "iopub.status.busy": "2024-05-20T09:13:08.778786Z",
          "iopub.execute_input": "2024-05-20T09:13:08.779182Z",
          "iopub.status.idle": "2024-05-20T09:13:28.252678Z",
          "shell.execute_reply.started": "2024-05-20T09:13:08.779151Z",
          "shell.execute_reply": "2024-05-20T09:13:28.251413Z"
        },
        "trusted": true,
        "id": "v6BvBEKACQMr"
      },
      "execution_count": null,
      "outputs": []
    },
    {
      "cell_type": "code",
      "source": [
        "X_test = np.asarray(X_test)\n",
        "X_test"
      ],
      "metadata": {
        "execution": {
          "iopub.status.busy": "2024-05-20T09:19:20.823683Z",
          "iopub.execute_input": "2024-05-20T09:19:20.824126Z",
          "iopub.status.idle": "2024-05-20T09:19:21.601901Z",
          "shell.execute_reply.started": "2024-05-20T09:19:20.82409Z",
          "shell.execute_reply": "2024-05-20T09:19:21.600493Z"
        },
        "trusted": true,
        "id": "R6ctm0dSCQMv"
      },
      "execution_count": null,
      "outputs": []
    },
    {
      "cell_type": "code",
      "source": [
        "X_test.shape"
      ],
      "metadata": {
        "execution": {
          "iopub.status.busy": "2024-05-20T09:19:26.411788Z",
          "iopub.execute_input": "2024-05-20T09:19:26.412473Z",
          "iopub.status.idle": "2024-05-20T09:19:26.419639Z",
          "shell.execute_reply.started": "2024-05-20T09:19:26.412437Z",
          "shell.execute_reply": "2024-05-20T09:19:26.418491Z"
        },
        "trusted": true,
        "id": "VRHpOcIlCQMw"
      },
      "execution_count": null,
      "outputs": []
    },
    {
      "cell_type": "markdown",
      "source": [
        "Тестовая выборка в нашем случае - это выборка, результат классификации для которой нам необходимо отправить на проверку. Работаем и обучаем модель мы только на размеченных данных. Разделим train выборку на тренировочную и тестовую."
      ],
      "metadata": {
        "id": "t8QYPx6eCQMw"
      }
    },
    {
      "cell_type": "code",
      "source": [
        "import sklearn\n",
        "from sklearn.model_selection import train_test_split"
      ],
      "metadata": {
        "execution": {
          "iopub.status.busy": "2024-05-20T09:25:12.113947Z",
          "iopub.execute_input": "2024-05-20T09:25:12.114807Z",
          "iopub.status.idle": "2024-05-20T09:25:15.458343Z",
          "shell.execute_reply.started": "2024-05-20T09:25:12.114761Z",
          "shell.execute_reply": "2024-05-20T09:25:15.456765Z"
        },
        "trusted": true,
        "id": "7YF0jLpyCQMw"
      },
      "execution_count": null,
      "outputs": []
    },
    {
      "cell_type": "code",
      "source": [
        "# делим выборку на тренировочную и тестовую случайным образом\n",
        "X_train, X_test, y_train, y_test = train_test_split(X_train, Y_train, random_state=42)"
      ],
      "metadata": {
        "execution": {
          "iopub.status.busy": "2024-05-20T09:28:10.440046Z",
          "iopub.execute_input": "2024-05-20T09:28:10.440557Z",
          "iopub.status.idle": "2024-05-20T09:28:11.579636Z",
          "shell.execute_reply.started": "2024-05-20T09:28:10.440515Z",
          "shell.execute_reply": "2024-05-20T09:28:11.578146Z"
        },
        "trusted": true,
        "id": "j34WFYchCQMw"
      },
      "execution_count": null,
      "outputs": []
    },
    {
      "cell_type": "code",
      "source": [
        "print('Train:', X_train.shape, y_train.shape)\n",
        "print('Test:', X_test.shape, y_test.shape)"
      ],
      "metadata": {
        "execution": {
          "iopub.status.busy": "2024-05-20T09:46:27.816556Z",
          "iopub.execute_input": "2024-05-20T09:46:27.817562Z",
          "iopub.status.idle": "2024-05-20T09:46:27.823524Z",
          "shell.execute_reply.started": "2024-05-20T09:46:27.817522Z",
          "shell.execute_reply": "2024-05-20T09:46:27.822381Z"
        },
        "trusted": true,
        "id": "chQWezyoCQMw"
      },
      "execution_count": null,
      "outputs": []
    },
    {
      "cell_type": "markdown",
      "source": [
        "Проведем стандартизацию"
      ],
      "metadata": {
        "id": "Os731Nv4CQMw"
      }
    },
    {
      "cell_type": "code",
      "source": [
        "#делаем преобразование только на основе тренировочной подвыборки, чтобы избежать подглядывания\n",
        "from sklearn.preprocessing import StandardScaler\n",
        "\n",
        "scaler = StandardScaler()\n",
        "\n",
        "X_train = pd.DataFrame(scaler.fit_transform(X_train))\n",
        "X_test = pd.DataFrame(scaler.transform(X_test))"
      ],
      "metadata": {
        "execution": {
          "iopub.status.busy": "2024-05-20T09:49:11.856479Z",
          "iopub.execute_input": "2024-05-20T09:49:11.856904Z",
          "iopub.status.idle": "2024-05-20T09:49:17.900632Z",
          "shell.execute_reply.started": "2024-05-20T09:49:11.856872Z",
          "shell.execute_reply": "2024-05-20T09:49:17.899358Z"
        },
        "trusted": true,
        "id": "y7d0_Z_RCQMw"
      },
      "execution_count": null,
      "outputs": []
    },
    {
      "cell_type": "markdown",
      "source": [
        "# Моделирование"
      ],
      "metadata": {
        "id": "3QLrKyAsCQMx"
      }
    },
    {
      "cell_type": "code",
      "source": [
        "# задаем функцию сигмоиды, возвращающую вероятность принадлежности к целевому классу\n",
        "def sigmoid(x):\n",
        "    return 1/(1+ np.exp(-x))"
      ],
      "metadata": {
        "execution": {
          "iopub.status.busy": "2024-05-20T09:49:25.556333Z",
          "iopub.execute_input": "2024-05-20T09:49:25.556819Z",
          "iopub.status.idle": "2024-05-20T09:49:25.563755Z",
          "shell.execute_reply.started": "2024-05-20T09:49:25.55678Z",
          "shell.execute_reply": "2024-05-20T09:49:25.562106Z"
        },
        "trusted": true,
        "id": "Ozfc1MvMCQMx"
      },
      "execution_count": null,
      "outputs": []
    },
    {
      "cell_type": "markdown",
      "source": [
        "# Автоматическое обучение"
      ],
      "metadata": {
        "id": "XxqmH4CqCQMx"
      }
    },
    {
      "cell_type": "markdown",
      "source": [
        "используем модель логистической регрессии из sklearn"
      ],
      "metadata": {
        "id": "KKqSbkpuCQMx"
      }
    },
    {
      "cell_type": "code",
      "source": [
        "import sklearn\n",
        "from sklearn.linear_model import LogisticRegression"
      ],
      "metadata": {
        "execution": {
          "iopub.status.busy": "2024-05-20T09:49:36.601595Z",
          "iopub.execute_input": "2024-05-20T09:49:36.602012Z",
          "iopub.status.idle": "2024-05-20T09:49:36.728759Z",
          "shell.execute_reply.started": "2024-05-20T09:49:36.601977Z",
          "shell.execute_reply": "2024-05-20T09:49:36.727422Z"
        },
        "trusted": true,
        "id": "teMom3FaCQMx"
      },
      "execution_count": null,
      "outputs": []
    },
    {
      "cell_type": "code",
      "source": [
        "model = LogisticRegression(random_state=42, solver ='liblinear')\n",
        "model.fit(X_train, y_train)"
      ],
      "metadata": {
        "execution": {
          "iopub.status.busy": "2024-05-20T10:12:11.180105Z",
          "iopub.execute_input": "2024-05-20T10:12:11.180971Z",
          "iopub.status.idle": "2024-05-20T10:20:07.075441Z",
          "shell.execute_reply.started": "2024-05-20T10:12:11.180927Z",
          "shell.execute_reply": "2024-05-20T10:20:07.074378Z"
        },
        "trusted": true,
        "id": "n5oXV6eHCQMx"
      },
      "execution_count": null,
      "outputs": []
    },
    {
      "cell_type": "code",
      "source": [
        "model_C = LogisticRegression(random_state=42, solver ='liblinear',C = 1e-2 )\n",
        "model_C.fit(X_train, y_train)"
      ],
      "metadata": {
        "execution": {
          "iopub.status.busy": "2024-05-20T11:03:54.832632Z",
          "iopub.execute_input": "2024-05-20T11:03:54.833102Z",
          "iopub.status.idle": "2024-05-20T11:11:17.906721Z",
          "shell.execute_reply.started": "2024-05-20T11:03:54.833065Z",
          "shell.execute_reply": "2024-05-20T11:11:17.905145Z"
        },
        "trusted": true,
        "id": "wF3VpWilCQMx"
      },
      "execution_count": null,
      "outputs": []
    },
    {
      "cell_type": "code",
      "source": [
        "import seaborn as sns"
      ],
      "metadata": {
        "execution": {
          "iopub.status.busy": "2024-05-20T10:29:10.678168Z",
          "iopub.execute_input": "2024-05-20T10:29:10.678675Z",
          "iopub.status.idle": "2024-05-20T10:29:11.053865Z",
          "shell.execute_reply.started": "2024-05-20T10:29:10.678634Z",
          "shell.execute_reply": "2024-05-20T10:29:11.05273Z"
        },
        "trusted": true,
        "id": "ZHgjGia4CQMy"
      },
      "execution_count": null,
      "outputs": []
    },
    {
      "cell_type": "code",
      "source": [
        "from sklearn import metrics\n",
        "\n",
        "y_pred = model.predict(X_test)\n",
        "y_pred_C = model_C.predict(X_test)\n",
        "confusion_matrix1 = metrics.confusion_matrix(y_test, y_pred)\n",
        "confusion_matrix2 = metrics.confusion_matrix(y_test, y_pred_C)\n",
        "# Визуализируем матрицы ошибок\n",
        "fig, axes = plt.subplots(1, 2, figsize=(12, 5)) #фигура + 2 координатные плоскости\n",
        "# Строим тепловую карту для матрицы ошибок\n",
        "sns.heatmap(confusion_matrix1, annot=True, fmt='', ax=axes[0], cmap='Blues')\n",
        "# Добавляем название графику и подписи осей абсцисс и ординат\n",
        "axes[0].set_title('Матрица ошибок для классификации')\n",
        "axes[0].set_xlabel('y prediction')\n",
        "axes[0].set_ylabel('y true')\n",
        "# Строим тепловую карту для второй матрицы ошибок\n",
        "sns.heatmap(confusion_matrix2, annot=True, fmt='', ax=axes[1], cmap='Blues')\n",
        "# Добавляем название графику и подписи осей абсцисс и ординат\n",
        "axes[1].set_title('Матрица ошибок для классификации, C=1e-2')\n",
        "axes[1].set_xlabel('y prediction')\n",
        "axes[1].set_ylabel('y true')"
      ],
      "metadata": {
        "execution": {
          "iopub.status.busy": "2024-05-20T11:12:08.569701Z",
          "iopub.execute_input": "2024-05-20T11:12:08.570233Z",
          "iopub.status.idle": "2024-05-20T11:12:25.724794Z",
          "shell.execute_reply.started": "2024-05-20T11:12:08.570167Z",
          "shell.execute_reply": "2024-05-20T11:12:25.723491Z"
        },
        "trusted": true,
        "id": "13ZnUUSBCQMy"
      },
      "execution_count": null,
      "outputs": []
    },
    {
      "cell_type": "code",
      "source": [
        "print(metrics.classification_report(y_test, y_pred))\n",
        "print(metrics.classification_report(y_test, y_pred_C))"
      ],
      "metadata": {
        "execution": {
          "iopub.status.busy": "2024-05-20T11:13:01.605585Z",
          "iopub.execute_input": "2024-05-20T11:13:01.605989Z",
          "iopub.status.idle": "2024-05-20T11:13:01.633241Z",
          "shell.execute_reply.started": "2024-05-20T11:13:01.605957Z",
          "shell.execute_reply": "2024-05-20T11:13:01.631769Z"
        },
        "trusted": true,
        "id": "AMdIcgVeCQMy"
      },
      "execution_count": null,
      "outputs": []
    },
    {
      "cell_type": "markdown",
      "source": [
        "Поиграемся с порогом вероятности"
      ],
      "metadata": {
        "id": "2G22mHqpCQMy"
      }
    },
    {
      "cell_type": "code",
      "source": [
        "# Нас интересует только вероятность класса 1(второй столбец)\n",
        "y_proba_pred = model.predict_proba(X_test)[:, 1]\n",
        "\n",
        "# Для удобства завернём numpy-массив в Pandas Series\n",
        "\n",
        "y_proba_pred = pd.Series(y_proba_pred)\n",
        "# Создадим списки, в которых будем хранить значения метрик\n",
        "recall_scores = []\n",
        "precision_scores = []\n",
        "f1_scores = []\n",
        "accuracy_scores =[]\n",
        "\n",
        "# Сгенерируем набор вероятностных порогов в диапазоне от 0.1 до 1\n",
        "thresholds = np.arange(0.1, 1, 0.05)\n",
        "\n",
        "# В цикле будем перебирать сгенерированные пороги\n",
        "for threshold in thresholds:\n",
        "    y_pred = y_proba_pred.apply(lambda x: 1 if x>threshold else 0)\n",
        "    #Считаем метрики и добавляем их в списки\n",
        "    recall_scores.append(metrics.recall_score(y_test, y_pred))\n",
        "    precision_scores.append(metrics.precision_score(y_test, y_pred))\n",
        "    f1_scores.append(metrics.f1_score(y_test, y_pred))\n",
        "    accuracy_scores.append(metrics.accuracy_score(y_test, y_pred))"
      ],
      "metadata": {
        "execution": {
          "iopub.status.busy": "2024-05-20T11:49:28.645571Z",
          "iopub.execute_input": "2024-05-20T11:49:28.645983Z",
          "iopub.status.idle": "2024-05-20T11:49:36.759919Z",
          "shell.execute_reply.started": "2024-05-20T11:49:28.645949Z",
          "shell.execute_reply": "2024-05-20T11:49:36.758905Z"
        },
        "trusted": true,
        "id": "re8f_yY5CQMy"
      },
      "execution_count": null,
      "outputs": []
    },
    {
      "cell_type": "code",
      "source": [
        "# Строим линейный график зависимости метрик от threshold\n",
        "plt.figure(figsize=(10, 6))\n",
        "plt.plot(thresholds, recall_scores, label='Recall')\n",
        "# Строим линейный график зависимости precision от threshold\n",
        "plt.plot(thresholds, precision_scores, label='Precision')\n",
        "# Строим линейный график зависимости F1 от threshold\n",
        "plt.plot(thresholds, f1_scores, label='F1-score')\n",
        "# Строим линейный график зависимости F1 от threshold\n",
        "plt.plot(thresholds, accuracy_scores, label='Accuracy')\n",
        "\n",
        "plt.title('Зависимость метрик от порога вероятности')\n",
        "plt.xlabel('Порог вероятности')\n",
        "plt.ylabel('Метрика')\n",
        "plt.xticks(thresholds)\n",
        "plt.legend()"
      ],
      "metadata": {
        "execution": {
          "iopub.status.busy": "2024-05-20T11:21:40.57649Z",
          "iopub.execute_input": "2024-05-20T11:21:40.577815Z",
          "iopub.status.idle": "2024-05-20T11:21:41.115606Z",
          "shell.execute_reply.started": "2024-05-20T11:21:40.577768Z",
          "shell.execute_reply": "2024-05-20T11:21:41.114227Z"
        },
        "trusted": true,
        "id": "ENfGnYj3CQMy"
      },
      "execution_count": null,
      "outputs": []
    },
    {
      "cell_type": "markdown",
      "source": [
        "Есть смысл повысить порог вероятности, при котором картинка уже будет считаться первым классом. Так как у нас нет приоритетного класса, нет бизнес-контекста, чтобы приоретизировать метрики precision или recall, нам скорее важна метрика accuracy, и соблюдение баланса между остальными. Замечаем, что accuracy растет вместе с повышением порога вероятности причисление объекта к 1 классу. Однако, имеется дисбаланс классов в сторону 0. Будем иметь этот момент в виду"
      ],
      "metadata": {
        "id": "Sl7xPsbqCQMz"
      }
    },
    {
      "cell_type": "code",
      "source": [
        "thresholds = list(thresholds)"
      ],
      "metadata": {
        "execution": {
          "iopub.status.busy": "2024-05-20T11:50:31.296149Z",
          "iopub.execute_input": "2024-05-20T11:50:31.29657Z",
          "iopub.status.idle": "2024-05-20T11:50:31.302736Z",
          "shell.execute_reply.started": "2024-05-20T11:50:31.296523Z",
          "shell.execute_reply": "2024-05-20T11:50:31.301454Z"
        },
        "trusted": true,
        "id": "Rl6tR5C6CQMz"
      },
      "execution_count": null,
      "outputs": []
    },
    {
      "cell_type": "code",
      "source": [
        "equal_score_index = thresholds.index(0.9000000000000002)\n",
        "accuracy = accuracy_scores[equal_score_index]\n",
        "recall = recall_scores[equal_score_index]\n",
        "precision = precision_scores[equal_score_index]\n",
        "f1 = f1_scores[equal_score_index]\n",
        "print(f\"Accuracy для тренировочной выборки: {accuracy} при threshold: {thresholds[equal_score_index]}\")\n",
        "print(f\"F1-score для тренировочной выборки: {f1} при threshold: {thresholds[equal_score_index]}\")\n",
        "print(f\"Precision для тренировочной выборки: {precision} при threshold: {thresholds[equal_score_index]}\")\n",
        "print(f\"Recall для тренировочной выборки: {recall} при threshold: {thresholds[equal_score_index]}\")"
      ],
      "metadata": {
        "execution": {
          "iopub.status.busy": "2024-05-20T11:50:32.88626Z",
          "iopub.execute_input": "2024-05-20T11:50:32.886704Z",
          "iopub.status.idle": "2024-05-20T11:50:32.895314Z",
          "shell.execute_reply.started": "2024-05-20T11:50:32.886669Z",
          "shell.execute_reply": "2024-05-20T11:50:32.893984Z"
        },
        "trusted": true,
        "id": "swzkGALeCQMz"
      },
      "execution_count": null,
      "outputs": []
    },
    {
      "cell_type": "code",
      "source": [
        "#Задаём оптимальный порог вероятностей\n",
        "threshold_opt = 0.9000000000000002\n",
        "#Изображения, для которых вероятность быть сгенерированными > 0.9000000000000002, относим к классу 1\n",
        "#В противном случае — к классу 0\n",
        "y_pred_opt = y_proba_pred.apply(lambda x: 1 if x > threshold_opt else 0)\n",
        "#Считаем метрики\n",
        "print(metrics.classification_report(y_test, y_pred_opt))"
      ],
      "metadata": {
        "execution": {
          "iopub.status.busy": "2024-05-20T11:52:08.046989Z",
          "iopub.execute_input": "2024-05-20T11:52:08.047568Z",
          "iopub.status.idle": "2024-05-20T11:52:08.068976Z",
          "shell.execute_reply.started": "2024-05-20T11:52:08.047524Z",
          "shell.execute_reply": "2024-05-20T11:52:08.067498Z"
        },
        "trusted": true,
        "id": "6v6Wm9nHCQMz"
      },
      "execution_count": null,
      "outputs": []
    },
    {
      "cell_type": "code",
      "source": [
        "# проверяем целемую метрику - logloss\n",
        "from sklearn.metrics import log_loss\n",
        "\n",
        "logloss_train = log_loss(y_train, model.predict(X_train))\n",
        "logloss_test = log_loss(y_test, model.predict(X_test))\n",
        "print(f'Logloss для тренировочной выборки: {logloss_train}')\n",
        "print(f'Logloss для тестовой выборки: {logloss_test}')"
      ],
      "metadata": {
        "execution": {
          "iopub.status.busy": "2024-05-20T12:02:07.900435Z",
          "iopub.execute_input": "2024-05-20T12:02:07.90089Z",
          "iopub.status.idle": "2024-05-20T12:02:24.244933Z",
          "shell.execute_reply.started": "2024-05-20T12:02:07.900853Z",
          "shell.execute_reply": "2024-05-20T12:02:24.239919Z"
        },
        "trusted": true,
        "id": "LUerwVGGCQMz"
      },
      "execution_count": null,
      "outputs": []
    },
    {
      "cell_type": "markdown",
      "source": [
        "**В качестве финального решения выбираем логистическую регрессию, с порогом вероятности принадлежности к первому классу равному 0.9000000000000002. Еще раз выведем полученные метрики:**"
      ],
      "metadata": {
        "id": "aS2RGGe6CQMz"
      }
    },
    {
      "cell_type": "code",
      "source": [
        "print(metrics.classification_report(y_test, y_pred_opt))"
      ],
      "metadata": {
        "execution": {
          "iopub.status.busy": "2024-05-20T12:26:42.345706Z",
          "iopub.execute_input": "2024-05-20T12:26:42.346143Z",
          "iopub.status.idle": "2024-05-20T12:26:42.364643Z",
          "shell.execute_reply.started": "2024-05-20T12:26:42.346111Z",
          "shell.execute_reply": "2024-05-20T12:26:42.363374Z"
        },
        "trusted": true,
        "id": "Tuh2QthQCQMz"
      },
      "execution_count": null,
      "outputs": []
    },
    {
      "cell_type": "markdown",
      "source": [
        "**Далее следует экспериментальный блок.**"
      ],
      "metadata": {
        "id": "4DH5aoIjCQM0"
      }
    },
    {
      "cell_type": "markdown",
      "source": [
        "# Ручное обучение модели"
      ],
      "metadata": {
        "id": "AVhjHWfhCQM0"
      }
    },
    {
      "cell_type": "markdown",
      "source": [
        "Для ручного обучения модели нам необходим максимизировать функцию правдоподобия по весам модели логистической регрессии (функция правдоподобия описывает вероятность совместного появления наблюдений). Эта задача эквивалентна минимизации метрики logloss. В этих целях будем использовать метод градиентного спуска."
      ],
      "metadata": {
        "id": "OuSLYu6ICQM0"
      }
    },
    {
      "cell_type": "code",
      "source": [
        "# стандартизируем (не использую в итоговом варианте)\n",
        "from sklearn.preprocessing import StandardScaler\n",
        "scaler = StandardScaler()\n",
        "X_train = scaler.fit_transform(X_train)\n",
        "X_train.mean(axis=0), X_train.std(axis=0)"
      ],
      "metadata": {
        "execution": {
          "iopub.status.busy": "2024-04-05T12:42:09.189883Z",
          "iopub.execute_input": "2024-04-05T12:42:09.19039Z",
          "iopub.status.idle": "2024-04-05T12:42:18.589113Z",
          "shell.execute_reply.started": "2024-04-05T12:42:09.190357Z",
          "shell.execute_reply": "2024-04-05T12:42:18.587686Z"
        },
        "collapsed": true,
        "jupyter": {
          "outputs_hidden": true
        },
        "trusted": true,
        "id": "D-qVgvA4CQM0"
      },
      "execution_count": null,
      "outputs": []
    },
    {
      "cell_type": "code",
      "source": [
        "X_train"
      ],
      "metadata": {
        "execution": {
          "iopub.status.busy": "2024-04-05T12:49:41.785268Z",
          "iopub.execute_input": "2024-04-05T12:49:41.78571Z",
          "iopub.status.idle": "2024-04-05T12:49:41.792586Z",
          "shell.execute_reply.started": "2024-04-05T12:49:41.78568Z",
          "shell.execute_reply": "2024-04-05T12:49:41.791657Z"
        },
        "trusted": true,
        "id": "YfYyVlMaCQM0"
      },
      "execution_count": null,
      "outputs": []
    },
    {
      "cell_type": "code",
      "source": [
        "#добавляем единичный признак для свободных весов\n",
        "X_train = np.c_[np.ones(len(X_train)), X_train]\n",
        "X_train"
      ],
      "metadata": {
        "execution": {
          "iopub.status.busy": "2024-04-05T12:49:47.916085Z",
          "iopub.execute_input": "2024-04-05T12:49:47.916794Z",
          "iopub.status.idle": "2024-04-05T12:49:52.118977Z",
          "shell.execute_reply.started": "2024-04-05T12:49:47.916761Z",
          "shell.execute_reply": "2024-04-05T12:49:52.117747Z"
        },
        "trusted": true,
        "id": "Wj01iNqFCQM0"
      },
      "execution_count": null,
      "outputs": []
    },
    {
      "cell_type": "code",
      "source": [
        "# делаю тоже самое для тестовой подвыборки\n",
        "X_test = np.c_[np.ones(len(X_test)), X_test]"
      ],
      "metadata": {
        "execution": {
          "iopub.status.busy": "2024-04-05T12:50:52.304479Z",
          "iopub.execute_input": "2024-04-05T12:50:52.305725Z",
          "iopub.status.idle": "2024-04-05T12:50:53.373973Z",
          "shell.execute_reply.started": "2024-04-05T12:50:52.305673Z",
          "shell.execute_reply": "2024-04-05T12:50:53.37281Z"
        },
        "trusted": true,
        "id": "ASRbosW0CQM0"
      },
      "execution_count": null,
      "outputs": []
    },
    {
      "cell_type": "code",
      "source": [
        "# задаем функцию сигмоиды, возвращающую вероятность принадлежности к целевому классу\n",
        "def sigmoid(x):\n",
        "    return 1/(1+ np.exp(-x))\n",
        "\n",
        "# задаем функцию logloss, которую нам необходимо минимизировать для максимизации функции правдоподобия\n",
        "def logloss(y, y_proba):\n",
        "    logloss_1 = np.sum(np.log(y_proba[y == 1] + 1e-30))\n",
        "    logloss_0 = np.sum(np.log(1 - y_proba[ y == 0] + 1e-30))\n",
        "    logloss_total = -(logloss_0 + logloss_1)/ len(y)\n",
        "    return logloss_total\n",
        "\n",
        "# задаем функцию градиента logloss, так как будем использовать градиентный спуск для минимизации logloss\n",
        "def gr_logloss(X, W, y):\n",
        "    y_proba = sigmoid(X @ W)\n",
        "    grad = X.T @ (y_proba - y)\n",
        "    return grad\n"
      ],
      "metadata": {
        "execution": {
          "iopub.status.busy": "2024-04-05T12:50:57.622688Z",
          "iopub.execute_input": "2024-04-05T12:50:57.624105Z",
          "iopub.status.idle": "2024-04-05T12:50:57.635342Z",
          "shell.execute_reply.started": "2024-04-05T12:50:57.624064Z",
          "shell.execute_reply": "2024-04-05T12:50:57.633959Z"
        },
        "trusted": true,
        "id": "BHBKQ3mDCQM0"
      },
      "execution_count": null,
      "outputs": []
    },
    {
      "cell_type": "code",
      "source": [
        "# для визуализации, не использую\n",
        "x_min, x_max = X_train[:,0].min() - .5, X_train[:,0].max() + .5\n",
        "y_min, y_max = X_train[:,1].min() - .5, X_train[:,1].max() + .5\n",
        "h = .02\n",
        "xx, yy = np.meshgrid(np.arange(x_min, x_max, h), np.arange(y_min, y_max, h))"
      ],
      "metadata": {
        "execution": {
          "iopub.status.busy": "2024-04-03T11:40:14.881108Z",
          "iopub.execute_input": "2024-04-03T11:40:14.881585Z",
          "iopub.status.idle": "2024-04-03T11:40:14.889863Z",
          "shell.execute_reply.started": "2024-04-03T11:40:14.881548Z",
          "shell.execute_reply": "2024-04-03T11:40:14.888293Z"
        },
        "trusted": true,
        "id": "IMmUkq0VCQM1"
      },
      "execution_count": null,
      "outputs": []
    },
    {
      "cell_type": "code",
      "source": [
        "# для визуализации, не использую\n",
        "def visualize(W):\n",
        "    # не уверена, что этот шаг нужен, мы же уже прибавили единичный признак ранее\n",
        "    #x_t_ones = np.c_[np.ones(x_t.shape[0]), x_t]\n",
        "    x_t_ones = X_train\n",
        "\n",
        "    y_proba = sigmoid(x_t_ones @ W)\n",
        "    Z = np.where(y_proba >= 0.5, 1, 0)\n",
        "\n",
        "    Z = Z.reshape(xx.shape)\n",
        "\n",
        "    plt.figure(1, figsize(8,8))\n",
        "    plt.pcolormesh(xx, yy, Z, cmap=plt.cm.Paired)\n",
        "\n",
        "    plt.scatter(X[y == 0][:,1], X[y == 0][:, 2], edgecolors ='k')\n",
        "    plt.scatter(X[y == 1][:,1], X[y == 1][:, 2], edgecolors ='k')\n",
        "\n",
        "    plt.xlim(xx.min(), xx.max())\n",
        "    plt.ylim(yy.min(), yy.max())\n",
        "    plt.xticks()\n",
        "    plt.show()"
      ],
      "metadata": {
        "execution": {
          "iopub.status.busy": "2024-04-03T11:40:18.140521Z",
          "iopub.execute_input": "2024-04-03T11:40:18.140917Z",
          "iopub.status.idle": "2024-04-03T11:40:18.148293Z",
          "shell.execute_reply.started": "2024-04-03T11:40:18.140885Z",
          "shell.execute_reply": "2024-04-03T11:40:18.147154Z"
        },
        "trusted": true,
        "id": "qhFDpgm1CQM1"
      },
      "execution_count": null,
      "outputs": []
    },
    {
      "cell_type": "code",
      "source": [
        "# установка минимума сдвига для весов\n",
        "eps = 0.0001\n",
        "\n",
        "# рандомные первоначальные веса, от которых начинаем двигаться\n",
        "np.random.seed(8)\n",
        "W = np.random.randn(X_train.shape[1])\n",
        "\n",
        "# размер шага\n",
        "learning_rate = 0.001\n",
        "\n",
        "# первоначальные веса\n",
        "next_W = W\n",
        "\n",
        "index = []\n",
        "logloss_list = []\n",
        "# количество итераций\n",
        "n = 3000\n",
        "for i in range(n):\n",
        "    cur_W = next_W\n",
        "    next_W = cur_W - learning_rate*gr_logloss(X_train, cur_W, Y_train)\n",
        "\n",
        "    #если топчемся на одном месте, останавливаемся и выходим из цикла\n",
        "    if np.linalg.norm(cur_W - next_W) <= eps:\n",
        "        break\n",
        "\n",
        "    if i % 50 == 0:\n",
        "        print(f'Итерация {i}')\n",
        "        index.append(i)\n",
        "        ll = logloss(Y_train, y_proba)\n",
        "        logloss_list.append(ll)\n",
        "        y_proba = sigmoid (X_train @ next_W)\n",
        "        y_class = np.where(y_proba >=0.5, 1, 0)\n",
        "        print(f'Logloss {logloss(Y_train, y_proba)}')\n",
        "        print('----------------------------------------')\n",
        "\n",
        "plt.plot(index,logloss_list)\n",
        "plt.xticks(index,rotation='vertical')\n",
        "plt.xlabel(\"Number of Iterarion\")\n",
        "plt.ylabel(\"Logloss\")\n",
        "plt.show()\n",
        ""
      ],
      "metadata": {
        "execution": {
          "iopub.status.busy": "2024-04-05T13:30:19.140936Z",
          "iopub.execute_input": "2024-04-05T13:30:19.141465Z",
          "iopub.status.idle": "2024-04-05T13:44:35.359652Z",
          "shell.execute_reply.started": "2024-04-05T13:30:19.141428Z",
          "shell.execute_reply": "2024-04-05T13:44:35.358074Z"
        },
        "trusted": true,
        "id": "Hn1phDNyCQM1"
      },
      "execution_count": null,
      "outputs": []
    },
    {
      "cell_type": "code",
      "source": [
        "# кажую 50-ю итерацию мы выводили размер logloss, на графике видно, как функция приближается к минимуму\n",
        "# однако logloss, полученный вручную, далек от полученного встроенной моделью sklearn"
      ],
      "metadata": {
        "id": "PUPilk0oCQM1"
      },
      "execution_count": null,
      "outputs": []
    },
    {
      "cell_type": "code",
      "source": [
        "# выведем вектор весов. веса кажутся огромными, так как мы не применяли регуляризацию\n",
        "print(cur_W)"
      ],
      "metadata": {
        "execution": {
          "iopub.status.busy": "2024-04-05T13:12:15.071576Z",
          "iopub.execute_input": "2024-04-05T13:12:15.073106Z",
          "iopub.status.idle": "2024-04-05T13:12:15.080742Z",
          "shell.execute_reply.started": "2024-04-05T13:12:15.073054Z",
          "shell.execute_reply": "2024-04-05T13:12:15.079379Z"
        },
        "trusted": true,
        "id": "Zd_yt1KQCQM1"
      },
      "execution_count": null,
      "outputs": []
    },
    {
      "cell_type": "code",
      "source": [
        "# расчитаем вероятности принадлежности к целевому классу\n",
        "test_set['Y_proba_manual'] = sigmoid(X_test.dot(cur_W.T))"
      ],
      "metadata": {
        "execution": {
          "iopub.status.busy": "2024-04-05T13:12:58.441202Z",
          "iopub.execute_input": "2024-04-05T13:12:58.441709Z",
          "iopub.status.idle": "2024-04-05T13:12:58.533792Z",
          "shell.execute_reply.started": "2024-04-05T13:12:58.441677Z",
          "shell.execute_reply": "2024-04-05T13:12:58.532627Z"
        },
        "collapsed": true,
        "jupyter": {
          "outputs_hidden": true
        },
        "trusted": true,
        "id": "m6BTgNreCQM1"
      },
      "execution_count": null,
      "outputs": []
    },
    {
      "cell_type": "code",
      "source": [
        "test_set.head(10)"
      ],
      "metadata": {
        "execution": {
          "iopub.status.busy": "2024-04-05T13:13:06.630474Z",
          "iopub.execute_input": "2024-04-05T13:13:06.63088Z",
          "iopub.status.idle": "2024-04-05T13:13:06.669767Z",
          "shell.execute_reply.started": "2024-04-05T13:13:06.630851Z",
          "shell.execute_reply": "2024-04-05T13:13:06.668422Z"
        },
        "trusted": true,
        "id": "O_C5f_iZCQM2"
      },
      "execution_count": null,
      "outputs": []
    },
    {
      "cell_type": "code",
      "source": [
        "check_gen_man = test_set.loc[(test_set['Y_proba_manual'] == 1)]\n",
        "check_gen_man"
      ],
      "metadata": {
        "execution": {
          "iopub.status.busy": "2024-04-05T13:14:33.522175Z",
          "iopub.execute_input": "2024-04-05T13:14:33.523793Z",
          "iopub.status.idle": "2024-04-05T13:14:33.56431Z",
          "shell.execute_reply.started": "2024-04-05T13:14:33.523733Z",
          "shell.execute_reply": "2024-04-05T13:14:33.562845Z"
        },
        "trusted": true,
        "id": "Z3b6BFzdCQM2"
      },
      "execution_count": null,
      "outputs": []
    },
    {
      "cell_type": "code",
      "source": [
        "# проверим, в чем наши модели расходятся\n",
        "check_diff = test_set.loc[(test_set['pred'] != test_set['Y_proba_manual'])]\n",
        "check_diff.head(20)"
      ],
      "metadata": {
        "execution": {
          "iopub.status.busy": "2024-04-05T13:18:18.007568Z",
          "iopub.execute_input": "2024-04-05T13:18:18.008128Z",
          "iopub.status.idle": "2024-04-05T13:18:18.062855Z",
          "shell.execute_reply.started": "2024-04-05T13:18:18.008093Z",
          "shell.execute_reply": "2024-04-05T13:18:18.061556Z"
        },
        "trusted": true,
        "id": "od0PJuMYCQM2"
      },
      "execution_count": null,
      "outputs": []
    },
    {
      "cell_type": "code",
      "source": [
        "check_common = test_set.loc[(test_set['pred'] == test_set['Y_proba_manual'])]\n",
        "check_common.head(20)"
      ],
      "metadata": {
        "execution": {
          "iopub.status.busy": "2024-04-05T13:21:23.791156Z",
          "iopub.execute_input": "2024-04-05T13:21:23.791616Z",
          "iopub.status.idle": "2024-04-05T13:21:23.846315Z",
          "shell.execute_reply.started": "2024-04-05T13:21:23.791586Z",
          "shell.execute_reply": "2024-04-05T13:21:23.845141Z"
        },
        "trusted": true,
        "id": "4sqtYI7OCQM2"
      },
      "execution_count": null,
      "outputs": []
    },
    {
      "cell_type": "markdown",
      "source": [
        "По совокупности факторов - размер logloss и ошибкам в предсказании, останавливаем выбор на модели логистической регрессии из sklearn"
      ],
      "metadata": {
        "id": "RCqfkmSDCQM2"
      }
    },
    {
      "cell_type": "markdown",
      "source": [
        "# Сверточная нейросеть"
      ],
      "metadata": {
        "id": "qXNxOvvhCQM2"
      }
    },
    {
      "cell_type": "markdown",
      "source": [
        "Сверточные нейросети классически используются для категоризации изображений на основе нарисованных на них объектов. В данном случае это не кажется уместным, так как сгенерированные изображения не схожи по присутствующим на них объектах. Однако, всё же проверим результат работы алгоритма и на этой выборке."
      ],
      "metadata": {
        "id": "yjnkp9MWCQM2"
      }
    },
    {
      "cell_type": "code",
      "source": [
        "import shutil"
      ],
      "metadata": {
        "execution": {
          "iopub.status.busy": "2024-04-08T14:10:45.538167Z",
          "iopub.execute_input": "2024-04-08T14:10:45.538562Z",
          "iopub.status.idle": "2024-04-08T14:10:45.543571Z",
          "shell.execute_reply.started": "2024-04-08T14:10:45.538533Z",
          "shell.execute_reply": "2024-04-08T14:10:45.542327Z"
        },
        "trusted": true,
        "id": "wNtXgkDmCQM3"
      },
      "execution_count": null,
      "outputs": []
    },
    {
      "cell_type": "code",
      "source": [
        "# для начала нам необходимо разложить по папкам изображения в зависимости от их класса. также у нас отдельно у нас\n",
        "# отдельно будет лежать тестовая и тренировочная выборки. копируем нужный DataFrame\n",
        "origin = new_merged\n",
        "origin.head(5)"
      ],
      "metadata": {
        "execution": {
          "iopub.status.busy": "2024-04-08T14:10:48.188743Z",
          "iopub.execute_input": "2024-04-08T14:10:48.189533Z",
          "iopub.status.idle": "2024-04-08T14:10:48.201567Z",
          "shell.execute_reply.started": "2024-04-08T14:10:48.189495Z",
          "shell.execute_reply": "2024-04-08T14:10:48.200234Z"
        },
        "trusted": true,
        "id": "6jL-1L85CQM3"
      },
      "execution_count": null,
      "outputs": []
    },
    {
      "cell_type": "code",
      "source": [
        "# очистка в случае повторного рана\n",
        "shutil.rmtree('/kaggle/working/gen')\n",
        "shutil.rmtree('/kaggle/working/ngen')\n",
        "shutil.rmtree('/kaggle/working/test')"
      ],
      "metadata": {
        "id": "V5xLo1dHCQM3"
      },
      "execution_count": null,
      "outputs": []
    },
    {
      "cell_type": "code",
      "source": [
        "# создаем директории\n",
        "os.mkdir('/kaggle/working/gen')\n",
        "os.mkdir('/kaggle/working/ngen')\n",
        "os.mkdir('/kaggle/working/test')\n",
        "os.mkdir('/kaggle/working/train')"
      ],
      "metadata": {
        "execution": {
          "iopub.status.busy": "2024-04-08T14:11:17.06096Z",
          "iopub.execute_input": "2024-04-08T14:11:17.061342Z",
          "iopub.status.idle": "2024-04-08T14:11:17.067496Z",
          "shell.execute_reply.started": "2024-04-08T14:11:17.06131Z",
          "shell.execute_reply": "2024-04-08T14:11:17.066296Z"
        },
        "trusted": true,
        "id": "tNprY-yRCQM3"
      },
      "execution_count": null,
      "outputs": []
    },
    {
      "cell_type": "code",
      "source": [
        "# функция, сортирующая изображения по папкам\n",
        "def sort_folders(columns):\n",
        "    nm = columns[0]\n",
        "    tg = columns[1]\n",
        "\n",
        "    folder_origin = '/kaggle/input/images/generated-or-not/images'\n",
        "    folder_train_gen = '/kaggle/working/gen'\n",
        "    folder_train_notgen = '/kaggle/working/ngen'\n",
        "    folder_test = '/kaggle/working/test'\n",
        "    #for img in os.listdir(folder_origin):\n",
        "    if tg == 1:\n",
        "        shutil.copy(os.path.join(folder_origin, nm), os.path.join(folder_train_gen, nm))\n",
        "    if tg == 0:\n",
        "        shutil.copy(os.path.join(folder_origin, nm), os.path.join(folder_train_notgen, nm))\n",
        "    else:\n",
        "        shutil.copy(os.path.join(folder_origin, nm), os.path.join(folder_test, nm))\n",
        "    return '+'"
      ],
      "metadata": {
        "execution": {
          "iopub.status.busy": "2024-04-08T14:11:59.12615Z",
          "iopub.execute_input": "2024-04-08T14:11:59.126524Z",
          "iopub.status.idle": "2024-04-08T14:11:59.134828Z",
          "shell.execute_reply.started": "2024-04-08T14:11:59.126495Z",
          "shell.execute_reply": "2024-04-08T14:11:59.133607Z"
        },
        "trusted": true,
        "id": "f_DKpVRMCQM3"
      },
      "execution_count": null,
      "outputs": []
    },
    {
      "cell_type": "code",
      "source": [
        "origin[['id_x', 'target']].apply(sort_folders, axis = 1)"
      ],
      "metadata": {
        "execution": {
          "iopub.status.busy": "2024-04-08T14:12:05.241616Z",
          "iopub.execute_input": "2024-04-08T14:12:05.242063Z",
          "iopub.status.idle": "2024-04-08T14:12:08.088868Z",
          "shell.execute_reply.started": "2024-04-08T14:12:05.241996Z",
          "shell.execute_reply": "2024-04-08T14:12:08.087945Z"
        },
        "collapsed": true,
        "jupyter": {
          "outputs_hidden": true
        },
        "trusted": true,
        "id": "Q2r5ez6HCQM3"
      },
      "execution_count": null,
      "outputs": []
    },
    {
      "cell_type": "code",
      "source": [
        "shutil.move('/kaggle/working/gen', '/kaggle/working/train')\n",
        "shutil.move('/kaggle/working/ngen', '/kaggle/working/train')"
      ],
      "metadata": {
        "execution": {
          "iopub.status.busy": "2024-04-08T14:12:15.422847Z",
          "iopub.execute_input": "2024-04-08T14:12:15.424346Z",
          "iopub.status.idle": "2024-04-08T14:12:15.43172Z",
          "shell.execute_reply.started": "2024-04-08T14:12:15.424298Z",
          "shell.execute_reply": "2024-04-08T14:12:15.43068Z"
        },
        "trusted": true,
        "id": "_V1eMWWhCQM3"
      },
      "execution_count": null,
      "outputs": []
    },
    {
      "cell_type": "code",
      "source": [
        "II_dir = os.path.join('/kaggle/working/train/gen')\n",
        "human_dir = os.path.join('/kaggle/working/train/ngen')"
      ],
      "metadata": {
        "execution": {
          "iopub.status.busy": "2024-04-08T14:13:22.276196Z",
          "iopub.execute_input": "2024-04-08T14:13:22.276573Z",
          "iopub.status.idle": "2024-04-08T14:13:22.282085Z",
          "shell.execute_reply.started": "2024-04-08T14:13:22.276546Z",
          "shell.execute_reply": "2024-04-08T14:13:22.281009Z"
        },
        "trusted": true,
        "id": "WX6gTBfUCQM4"
      },
      "execution_count": null,
      "outputs": []
    },
    {
      "cell_type": "code",
      "source": [
        "print('total training II images:', len(os.listdir(II_dir)))\n",
        "print('total training human images:', len(os.listdir(human_dir)))"
      ],
      "metadata": {
        "execution": {
          "iopub.status.busy": "2024-04-08T14:13:25.278175Z",
          "iopub.execute_input": "2024-04-08T14:13:25.278554Z",
          "iopub.status.idle": "2024-04-08T14:13:25.285876Z",
          "shell.execute_reply.started": "2024-04-08T14:13:25.278525Z",
          "shell.execute_reply": "2024-04-08T14:13:25.284594Z"
        },
        "trusted": true,
        "id": "0Z9nD_ZPCQM4"
      },
      "execution_count": null,
      "outputs": []
    },
    {
      "cell_type": "code",
      "source": [
        "II_files = os.listdir(II_dir)\n",
        "print(II_files[:10])\n",
        "\n",
        "human_files = os.listdir(human_dir)\n",
        "print(human_files[:10])"
      ],
      "metadata": {
        "execution": {
          "iopub.status.busy": "2024-04-08T14:13:30.670825Z",
          "iopub.execute_input": "2024-04-08T14:13:30.671219Z",
          "iopub.status.idle": "2024-04-08T14:13:30.679419Z",
          "shell.execute_reply.started": "2024-04-08T14:13:30.671191Z",
          "shell.execute_reply": "2024-04-08T14:13:30.677963Z"
        },
        "trusted": true,
        "id": "SnKmuRX-CQM4"
      },
      "execution_count": null,
      "outputs": []
    },
    {
      "cell_type": "code",
      "source": [
        "# предобработка завершена. устанавливаем нужные библиотеки.\n",
        "import tensorflow as tf\n",
        "import keras\n",
        "from tensorflow.keras.preprocessing import image\n",
        "from tensorflow.keras.preprocessing.image import ImageDataGenerator"
      ],
      "metadata": {
        "execution": {
          "iopub.status.busy": "2024-04-08T14:13:34.416847Z",
          "iopub.execute_input": "2024-04-08T14:13:34.417258Z",
          "iopub.status.idle": "2024-04-08T14:13:34.424744Z",
          "shell.execute_reply.started": "2024-04-08T14:13:34.417227Z",
          "shell.execute_reply": "2024-04-08T14:13:34.423428Z"
        },
        "trusted": true,
        "id": "2c7GUxGXCQM4"
      },
      "execution_count": null,
      "outputs": []
    },
    {
      "cell_type": "code",
      "source": [
        "TRAINING_DIR = \"/kaggle/working/train\"\n",
        "training_datagen = ImageDataGenerator(\n",
        "      rescale = 1./255,\n",
        "      rotation_range=40,\n",
        "      width_shift_range=0.2,\n",
        "      height_shift_range=0.2,\n",
        "      shear_range=0.2,\n",
        "      zoom_range=0.2,\n",
        "      horizontal_flip=True,\n",
        "      fill_mode='nearest')\n",
        "\n",
        "train_generator = training_datagen.flow_from_directory(\n",
        "\tTRAINING_DIR,\n",
        "\ttarget_size=(224,224),\n",
        "\tclass_mode='categorical',\n",
        "  batch_size=126\n",
        ")"
      ],
      "metadata": {
        "execution": {
          "iopub.status.busy": "2024-04-08T14:20:46.386588Z",
          "iopub.execute_input": "2024-04-08T14:20:46.387029Z",
          "iopub.status.idle": "2024-04-08T14:20:46.430237Z",
          "shell.execute_reply.started": "2024-04-08T14:20:46.386995Z",
          "shell.execute_reply": "2024-04-08T14:20:46.429031Z"
        },
        "trusted": true,
        "id": "7Sl0b8BaCQM4"
      },
      "execution_count": null,
      "outputs": []
    },
    {
      "cell_type": "code",
      "source": [
        "model = tf.keras.models.Sequential([\n",
        "    # This is the first convolution\n",
        "    tf.keras.layers.Conv2D(64, (3,3), activation='relu', input_shape=(224, 224, 3)),\n",
        "    tf.keras.layers.MaxPooling2D(2, 2),\n",
        "    # The second convolution\n",
        "    tf.keras.layers.Conv2D(64, (3,3), activation='relu'),\n",
        "    tf.keras.layers.MaxPooling2D(2,2),\n",
        "    # The third convolution\n",
        "    tf.keras.layers.Conv2D(128, (3,3), activation='relu'),\n",
        "    tf.keras.layers.MaxPooling2D(2,2),\n",
        "    # The fourth convolution\n",
        "    tf.keras.layers.Conv2D(128, (3,3), activation='relu'),\n",
        "    tf.keras.layers.MaxPooling2D(2,2),\n",
        "    # Flatten the results to feed into a DNN\n",
        "    tf.keras.layers.Flatten(),\n",
        "    tf.keras.layers.Dropout(0.5),\n",
        "    # 512 neuron hidden layer\n",
        "    tf.keras.layers.Dense(512, activation='relu'),\n",
        "    tf.keras.layers.Dense(2, activation='softmax')\n",
        "])"
      ],
      "metadata": {
        "execution": {
          "iopub.status.busy": "2024-04-08T14:27:17.873039Z",
          "iopub.execute_input": "2024-04-08T14:27:17.873433Z",
          "iopub.status.idle": "2024-04-08T14:27:18.095709Z",
          "shell.execute_reply.started": "2024-04-08T14:27:17.873403Z",
          "shell.execute_reply": "2024-04-08T14:27:18.093968Z"
        },
        "collapsed": true,
        "jupyter": {
          "outputs_hidden": true
        },
        "trusted": true,
        "id": "0wbPOuYiCQM4"
      },
      "execution_count": null,
      "outputs": []
    },
    {
      "cell_type": "code",
      "source": [
        "model.summary()\n",
        "\n",
        "model.compile(loss = 'categorical_crossentropy', optimizer='rmsprop', metrics=['accuracy'])\n",
        "\n",
        "history = model.fit(train_generator, epochs=25, steps_per_epoch=20)\n",
        "\n",
        "model.save(\"rps.h5\")"
      ],
      "metadata": {
        "execution": {
          "iopub.status.busy": "2024-04-08T14:29:51.095197Z",
          "iopub.execute_input": "2024-04-08T14:29:51.095599Z",
          "iopub.status.idle": "2024-04-08T15:25:37.606843Z",
          "shell.execute_reply.started": "2024-04-08T14:29:51.095569Z",
          "shell.execute_reply": "2024-04-08T15:25:37.605519Z"
        },
        "trusted": true,
        "id": "2Dws4ZRtCQM4"
      },
      "execution_count": null,
      "outputs": []
    },
    {
      "cell_type": "code",
      "source": [
        "# predicting images\n",
        "for image in os.listdir('/kaggle/working/test'):\n",
        "\n",
        "    path = '/kaggle/working/test/' + image\n",
        "    #print(path)\n",
        "    img = keras.utils.load_img(path, target_size=(224, 224))\n",
        "    #print(type(img))\n",
        "    x = keras.utils.img_to_array(img)\n",
        "    x = np.expand_dims(x, axis=0)\n",
        "\n",
        "    images = np.vstack([x])\n",
        "    classes = model.predict(images, batch_size=10)\n",
        "    print(image)\n",
        "    print(classes)\n",
        "\n",
        "#результаты получились менее удовлетворительными в сравнении с логистической регрессией"
      ],
      "metadata": {
        "execution": {
          "iopub.status.busy": "2024-04-08T15:59:31.918053Z",
          "iopub.execute_input": "2024-04-08T15:59:31.918431Z",
          "iopub.status.idle": "2024-04-08T16:01:11.759867Z",
          "shell.execute_reply.started": "2024-04-08T15:59:31.918401Z",
          "shell.execute_reply": "2024-04-08T16:01:11.759025Z"
        },
        "trusted": true,
        "id": "y8vSLcHUCQM5"
      },
      "execution_count": null,
      "outputs": []
    }
  ]
}